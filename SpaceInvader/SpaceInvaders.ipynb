{
 "cells": [
  {
   "cell_type": "code",
   "execution_count": 1,
   "metadata": {},
   "outputs": [
    {
     "name": "stdout",
     "output_type": "stream",
     "text": [
      "pygame 1.9.6\n",
      "Hello from the pygame community. https://www.pygame.org/contribute.html\n"
     ]
    }
   ],
   "source": [
    "import pygame\n",
    "from pygame import mixer\n",
    "import random\n",
    "import math\n",
    "import time"
   ]
  },
  {
   "cell_type": "code",
   "execution_count": 2,
   "metadata": {},
   "outputs": [
    {
     "data": {
      "text/plain": [
       "(6, 0)"
      ]
     },
     "execution_count": 2,
     "metadata": {},
     "output_type": "execute_result"
    }
   ],
   "source": [
    "pygame.init()"
   ]
  },
  {
   "cell_type": "code",
   "execution_count": 3,
   "metadata": {},
   "outputs": [],
   "source": [
    "screen = pygame.display.set_mode((1000,800))\n",
    "\n",
    "pygame.display.set_caption(\"Space Invaders\")\n",
    "icon = pygame.image.load(\"ufo.png\")\n",
    "pygame.display.set_icon(icon)\n",
    "background = pygame.image.load(\"background.png\")"
   ]
  },
  {
   "cell_type": "code",
   "execution_count": 4,
   "metadata": {},
   "outputs": [],
   "source": [
    "mixer.music.load(\"background.wav\")\n",
    "mixer.music.play(-1)"
   ]
  },
  {
   "cell_type": "code",
   "execution_count": 5,
   "metadata": {},
   "outputs": [],
   "source": [
    "enemy_dict = {1:\"alien0.png\",2:\"alien1.png\",3:\"alien2.png\",4:\"alien3.png\",5:\"alien4.png\",6:\"specialalien.png\"}"
   ]
  },
  {
   "cell_type": "code",
   "execution_count": 6,
   "metadata": {},
   "outputs": [],
   "source": [
    "enemyImg = []\n",
    "enemyX = []\n",
    "enemyY = []\n",
    "enemyX_change = []\n",
    "enemyY_change = []\n",
    "enemy_appear = False\n",
    "number_of_enemies = 6"
   ]
  },
  {
   "cell_type": "code",
   "execution_count": 7,
   "metadata": {},
   "outputs": [],
   "source": [
    "playerImg = pygame.image.load(\"spaceship.png\")\n",
    "playerX = 440\n",
    "playerY = 600\n",
    "playerX_change = 0\n",
    "playerY_change = 0"
   ]
  },
  {
   "cell_type": "code",
   "execution_count": 8,
   "metadata": {},
   "outputs": [],
   "source": [
    "bulletImg = pygame.image.load(\"bullet.png\")\n",
    "bulletY = playerY\n",
    "bulletY_change = 10\n",
    "bulletX = 0\n",
    "bullet_state = 'ready'"
   ]
  },
  {
   "cell_type": "code",
   "execution_count": 9,
   "metadata": {},
   "outputs": [],
   "source": [
    "for i in range(number_of_enemies):\n",
    "    enemyImg.append(pygame.image.load(enemy_dict[i+1]))\n",
    "    if i == 5:\n",
    "        enemyX_change.append(0)\n",
    "        enemyY_change.append(1)\n",
    "        continue\n",
    "    enemyX.append(random.randint(0,936))\n",
    "    enemyY.append(random.randint(0,150))\n",
    "    enemyX_change.append(4)\n",
    "    enemyY_change.append(40)\n",
    "\n",
    "enemyX.append(0)\n",
    "enemyY.append(0)"
   ]
  },
  {
   "cell_type": "code",
   "execution_count": 10,
   "metadata": {},
   "outputs": [],
   "source": [
    "over_font = pygame.font.Font(\"Seagram tfb.ttf\",64)"
   ]
  },
  {
   "cell_type": "code",
   "execution_count": 11,
   "metadata": {},
   "outputs": [],
   "source": [
    "def game_over_text():\n",
    "    over_game = over_font.render(\"GAME OVER\",True,(255,255,255))\n",
    "    screen.blit(over_game,(250,350))"
   ]
  },
  {
   "cell_type": "code",
   "execution_count": 12,
   "metadata": {},
   "outputs": [],
   "source": [
    "score_value = 0\n",
    "\n",
    "font = pygame.font.Font(\"Seagram tfb.ttf\",32)\n",
    "textX = 10\n",
    "textY = 10"
   ]
  },
  {
   "cell_type": "code",
   "execution_count": 13,
   "metadata": {},
   "outputs": [],
   "source": [
    "def show_score(x,y):\n",
    "    score = font.render(\"Score : \"+ str(score_value),True,(255,255,255))\n",
    "    screen.blit(score,(x,y))"
   ]
  },
  {
   "cell_type": "code",
   "execution_count": 14,
   "metadata": {},
   "outputs": [],
   "source": [
    "def fire_bullet(x,y):\n",
    "    global bullet_state\n",
    "    bullet_state = 'fire'\n",
    "    screen.blit(bulletImg,(x+47.5,y))\n",
    "    "
   ]
  },
  {
   "cell_type": "code",
   "execution_count": 15,
   "metadata": {},
   "outputs": [],
   "source": [
    "def player(x,y):\n",
    "    screen.blit(playerImg,(x,y))"
   ]
  },
  {
   "cell_type": "code",
   "execution_count": 16,
   "metadata": {},
   "outputs": [],
   "source": [
    "def enemy(x,y,i):\n",
    "        screen.blit(enemyImg[i],(x,y))"
   ]
  },
  {
   "cell_type": "code",
   "execution_count": 17,
   "metadata": {},
   "outputs": [],
   "source": [
    "def isCollision(enemyX,enemyY,bulletX,bulletY):\n",
    "    distance = math.sqrt(math.pow((enemyX-bulletX),2) + math.pow((enemyY-bulletY),2))\n",
    "    if distance<50:\n",
    "        return True\n",
    "    else:\n",
    "        return False"
   ]
  },
  {
   "cell_type": "code",
   "execution_count": 18,
   "metadata": {},
   "outputs": [],
   "source": [
    "def isGameOver(enemyX,enemyY,playerX,playerY):\n",
    "    distance = math.sqrt(math.pow((enemyX-playerX),2) + math.pow((enemyY-playerY),2))\n",
    "    if distance<77.5 or enemyY>=736:\n",
    "        return True\n",
    "    else:\n",
    "        return False"
   ]
  },
  {
   "cell_type": "code",
   "execution_count": 19,
   "metadata": {},
   "outputs": [],
   "source": [
    "clock = pygame.time.Clock()\n",
    "destroy_time = 0\n",
    "passed_time = 0\n",
    "time = random.randint(0,10)"
   ]
  },
  {
   "cell_type": "code",
   "execution_count": 20,
   "metadata": {},
   "outputs": [
    {
     "name": "stdout",
     "output_type": "stream",
     "text": [
      "GAME OVER!!\n",
      "\n",
      "Score :  14300\n"
     ]
    }
   ],
   "source": [
    "#Game loop\n",
    "running = True\n",
    "while running:\n",
    "   \n",
    "    screen.fill((0, 0, 102))\n",
    "    \n",
    "    screen.blit(background,(0,0))\n",
    "    \n",
    "    for event in pygame.event.get():\n",
    "        \n",
    "        if event.type == pygame.KEYDOWN:\n",
    "            if event.key == pygame.K_LEFT:\n",
    "               playerX_change = -5\n",
    "            if event.key == pygame.K_RIGHT:\n",
    "               playerX_change = 5\n",
    "            if event.key == pygame.K_UP:\n",
    "               playerY_change = -5\n",
    "            if event.key == pygame.K_DOWN:\n",
    "               playerY_change = 5 \n",
    "            if event.key == pygame.K_SPACE:\n",
    "                if bullet_state == 'ready':\n",
    "                    bullet_sound = mixer.Sound(\"laser.wav\")\n",
    "                    bullet_sound.play()\n",
    "                    fire_bullet(playerX,bulletY)\n",
    "                    bulletX = playerX\n",
    "                \n",
    "        if event.type == pygame.KEYUP:\n",
    "            playerX_change = 0.0\n",
    "            playerY_change = 0.0\n",
    "                    \n",
    "        if event.type == pygame.QUIT:\n",
    "            running = False\n",
    "            break\n",
    "            \n",
    "    if enemy_appear == False and passed_time>=time:\n",
    "        enemy_appear = True\n",
    "        enemyX[5] = random.randint(0,936)\n",
    "        enemyY[5] = random.randint(0,150)\n",
    "        passed_time = 0\n",
    "        destroy_time = 0\n",
    "    \n",
    "    playerX += playerX_change\n",
    "    playerY += playerY_change\n",
    "    \n",
    "    if playerX<=0:\n",
    "        playerX = 0\n",
    "    elif playerX>=872:\n",
    "        playerX = 872\n",
    "        \n",
    "    if playerY<=0:\n",
    "        playerY = 0\n",
    "    elif playerY>=672:\n",
    "        playerY = 672\n",
    "        \n",
    "    if bulletY<=0:\n",
    "        bulletY = playerY\n",
    "        bullet_state = 'ready'\n",
    "        \n",
    "    if bullet_state == 'fire':\n",
    "        fire_bullet(bulletX,bulletY)\n",
    "        bulletY -= bulletY_change \n",
    "        \n",
    "    for i in range(number_of_enemies):\n",
    "        if enemyX[i]<=0 and i != 5:\n",
    "            enemyX_change[i] = -enemyX_change[i] +0.05 \n",
    "            enemyY[i] += enemyY_change[i]\n",
    "    \n",
    "        if enemyX[i]>=936 and i != 5:\n",
    "            enemyX_change[i] = -enemyX_change[i] - 0.05\n",
    "            enemyY[i] += enemyY_change[i]\n",
    "        \n",
    "        if i != 5:\n",
    "            enemyX[i] += enemyX_change[i]\n",
    "        else:\n",
    "            enemyY[i] += enemyY_change[i]\n",
    "        \n",
    "        collision = isCollision(enemyX[i]-16,enemyY[i]-16,bulletX,bulletY)\n",
    "        game_over = isGameOver(enemyX[i]+32,enemyY[i]+32,playerX+64,playerY+64)\n",
    "    \n",
    "        if collision:\n",
    "            explosion_sound = mixer.Sound(\"explosion.wav\")\n",
    "            explosion_sound.play()\n",
    "            bulletY = playerY\n",
    "            bullet_state = 'ready'\n",
    "            score_value += 100\n",
    "            if i == 5:\n",
    "                enemy_appear = False\n",
    "                enemyX[5] = 200000\n",
    "                enemyY[5] = -200000\n",
    "                destroy_time = pygame.time.get_ticks()\n",
    "                time = random.randint(0,10)\n",
    "                continue\n",
    "            enemyX[i] = random.randint(0,936)\n",
    "            enemyY[i] = random.randint(0,150)\n",
    "    \n",
    "        if game_over:\n",
    "            for j in range(number_of_enemies):\n",
    "                enemyY[j] = 20000\n",
    "            playerY = 25000\n",
    "            playerX = 25000\n",
    "            game_over_text()\n",
    "        \n",
    "        if enemy_appear == True and i ==5 or i!=5:\n",
    "            enemy(enemyX[i],enemyY[i],i)\n",
    "   \n",
    "    player(playerX,playerY)\n",
    "    show_score(textX,textY)\n",
    "    if enemy_appear == False:\n",
    "        passed_time = (pygame.time.get_ticks() - destroy_time)/1000\n",
    "    pygame.display.update()\n",
    "    if not running:\n",
    "        mixer.music.stop()\n",
    "        pygame.display.quit()\n",
    "        \n",
    "print(\"GAME OVER!!\\n\\nScore : \",score_value)\n",
    "            \n",
    "    "
   ]
  }
 ],
 "metadata": {
  "kernelspec": {
   "display_name": "Python 3",
   "language": "python",
   "name": "python3"
  },
  "language_info": {
   "codemirror_mode": {
    "name": "ipython",
    "version": 3
   },
   "file_extension": ".py",
   "mimetype": "text/x-python",
   "name": "python",
   "nbconvert_exporter": "python",
   "pygments_lexer": "ipython3",
   "version": "3.7.6"
  }
 },
 "nbformat": 4,
 "nbformat_minor": 4
}
